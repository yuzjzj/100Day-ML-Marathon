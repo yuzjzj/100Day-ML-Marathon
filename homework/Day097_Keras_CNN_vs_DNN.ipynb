{
 "cells": [
  {
   "cell_type": "code",
   "execution_count": 1,
   "metadata": {},
   "outputs": [
    {
     "name": "stderr",
     "output_type": "stream",
     "text": [
      "Using TensorFlow backend.\n"
     ]
    }
   ],
   "source": [
    "import keras\n",
    "from keras.datasets import cifar10\n",
    "from keras.preprocessing.image import ImageDataGenerator\n",
    "from keras.models import Sequential\n",
    "from keras.layers import Dense, Dropout, Activation, Flatten\n",
    "from keras.layers import Conv2D, MaxPooling2D\n",
    "from keras.optimizers import RMSprop, Adam\n",
    "import os"
   ]
  },
  {
   "cell_type": "code",
   "execution_count": 2,
   "metadata": {},
   "outputs": [],
   "source": [
    "batch_size = 128 # batch 的大小，如果出現 OOM error，請降低這個值\n",
    "num_classes = 10 # 類別的數量，Cifar 10 共有 10 個類別\n",
    "epochs = 10 # 訓練的 epochs 數量\n",
    "BATCH_SIZE = [64,128,256]\n",
    "EPOCHS = [5,10,50]"
   ]
  },
  {
   "cell_type": "code",
   "execution_count": 3,
   "metadata": {
    "scrolled": true
   },
   "outputs": [
    {
     "name": "stdout",
     "output_type": "stream",
     "text": [
      "x_train shape:(50000, 32, 32, 3)\n",
      "50000 train samples\n",
      "10000 test samples\n"
     ]
    }
   ],
   "source": [
    "# 讀取資料並檢視\n",
    "(x_train, y_train), (x_test, y_test) = cifar10.load_data()\n",
    "print(f'x_train shape:{x_train.shape}')\n",
    "print(f'{x_train.shape[0]} train samples')\n",
    "print(f'{x_test.shape[0]} test samples')\n",
    "\n",
    "# 對 label 進行 one-hot encoding (y_trian 原本是純數字)\n",
    "y_train = keras.utils.to_categorical(y_train, num_classes)\n",
    "y_test = keras.utils.to_categorical(y_test, num_classes)"
   ]
  },
  {
   "cell_type": "markdown",
   "metadata": {},
   "source": [
    "## 首先我們使用一般的 DNN (MLP) 來訓練\n",
    "由於 DNN 只能輸入一維的資料，我們要先將影像進行攤平，若 (50000, 32, 32, 3) 的影像，攤平後會變成 (50000, 32*32*3) = (50000, 3072)"
   ]
  },
  {
   "cell_type": "code",
   "execution_count": 4,
   "metadata": {},
   "outputs": [
    {
     "name": "stdout",
     "output_type": "stream",
     "text": [
      "50000 train samples\n",
      "10000 test samples\n"
     ]
    }
   ],
   "source": [
    "# 將資料攤平成一維資料\n",
    "x_train = x_train.reshape(50000, 3072) \n",
    "x_test = x_test.reshape(10000, 3072)\n",
    "\n",
    "# 將資料變為 float32 並標準化\n",
    "x_train = x_train.astype('float32')\n",
    "x_test = x_test.astype('float32')\n",
    "x_train /= 255\n",
    "x_test /= 255\n",
    "print(x_train.shape[0], 'train samples')\n",
    "print(x_test.shape[0], 'test samples')"
   ]
  },
  {
   "cell_type": "code",
   "execution_count": 5,
   "metadata": {
    "collapsed": true
   },
   "outputs": [
    {
     "name": "stdout",
     "output_type": "stream",
     "text": [
      "WARNING:tensorflow:From C:\\Miniconda3\\envs\\t1\\lib\\site-packages\\keras\\backend\\tensorflow_backend.py:74: The name tf.get_default_graph is deprecated. Please use tf.compat.v1.get_default_graph instead.\n",
      "\n",
      "WARNING:tensorflow:From C:\\Miniconda3\\envs\\t1\\lib\\site-packages\\keras\\backend\\tensorflow_backend.py:517: The name tf.placeholder is deprecated. Please use tf.compat.v1.placeholder instead.\n",
      "\n",
      "WARNING:tensorflow:From C:\\Miniconda3\\envs\\t1\\lib\\site-packages\\keras\\backend\\tensorflow_backend.py:4138: The name tf.random_uniform is deprecated. Please use tf.random.uniform instead.\n",
      "\n",
      "WARNING:tensorflow:From C:\\Miniconda3\\envs\\t1\\lib\\site-packages\\keras\\backend\\tensorflow_backend.py:133: The name tf.placeholder_with_default is deprecated. Please use tf.compat.v1.placeholder_with_default instead.\n",
      "\n",
      "WARNING:tensorflow:From C:\\Miniconda3\\envs\\t1\\lib\\site-packages\\keras\\backend\\tensorflow_backend.py:3445: calling dropout (from tensorflow.python.ops.nn_ops) with keep_prob is deprecated and will be removed in a future version.\n",
      "Instructions for updating:\n",
      "Please use `rate` instead of `keep_prob`. Rate should be set to `rate = 1 - keep_prob`.\n",
      "_________________________________________________________________\n",
      "Layer (type)                 Output Shape              Param #   \n",
      "=================================================================\n",
      "dense_1 (Dense)              (None, 512)               1573376   \n",
      "_________________________________________________________________\n",
      "dropout_1 (Dropout)          (None, 512)               0         \n",
      "_________________________________________________________________\n",
      "dense_2 (Dense)              (None, 512)               262656    \n",
      "_________________________________________________________________\n",
      "dropout_2 (Dropout)          (None, 512)               0         \n",
      "_________________________________________________________________\n",
      "dense_3 (Dense)              (None, 10)                5130      \n",
      "=================================================================\n",
      "Total params: 1,841,162\n",
      "Trainable params: 1,841,162\n",
      "Non-trainable params: 0\n",
      "_________________________________________________________________\n",
      "WARNING:tensorflow:From C:\\Miniconda3\\envs\\t1\\lib\\site-packages\\keras\\optimizers.py:790: The name tf.train.Optimizer is deprecated. Please use tf.compat.v1.train.Optimizer instead.\n",
      "\n",
      "WARNING:tensorflow:From C:\\Miniconda3\\envs\\t1\\lib\\site-packages\\keras\\backend\\tensorflow_backend.py:3295: The name tf.log is deprecated. Please use tf.math.log instead.\n",
      "\n"
     ]
    }
   ],
   "source": [
    "dnn = Sequential()\n",
    "dnn.add(Dense(512, activation='relu', input_shape=(3072,)))\n",
    "dnn.add(Dropout(0.2))\n",
    "dnn.add(Dense(512, activation='relu'))\n",
    "dnn.add(Dropout(0.2))\n",
    "dnn.add(Dense(num_classes, activation='softmax'))\n",
    "\n",
    "dnn.summary()\n",
    "\n",
    "dnn.compile(loss='categorical_crossentropy',\n",
    "              optimizer=RMSprop(),\n",
    "              metrics=['accuracy'])"
   ]
  },
  {
   "cell_type": "code",
   "execution_count": 6,
   "metadata": {},
   "outputs": [],
   "source": [
    "DNN = {}"
   ]
  },
  {
   "cell_type": "code",
   "execution_count": 7,
   "metadata": {
    "collapsed": true
   },
   "outputs": [
    {
     "name": "stdout",
     "output_type": "stream",
     "text": [
      "WARNING:tensorflow:From C:\\Miniconda3\\envs\\t1\\lib\\site-packages\\tensorflow_core\\python\\ops\\math_grad.py:1424: where (from tensorflow.python.ops.array_ops) is deprecated and will be removed in a future version.\n",
      "Instructions for updating:\n",
      "Use tf.where in 2.0, which has the same broadcast rule as np.where\n",
      "WARNING:tensorflow:From C:\\Miniconda3\\envs\\t1\\lib\\site-packages\\keras\\backend\\tensorflow_backend.py:986: The name tf.assign_add is deprecated. Please use tf.compat.v1.assign_add instead.\n",
      "\n",
      "WARNING:tensorflow:From C:\\Miniconda3\\envs\\t1\\lib\\site-packages\\keras\\backend\\tensorflow_backend.py:973: The name tf.assign is deprecated. Please use tf.compat.v1.assign instead.\n",
      "\n",
      "WARNING:tensorflow:From C:\\Miniconda3\\envs\\t1\\lib\\site-packages\\keras\\backend\\tensorflow_backend.py:2741: The name tf.Session is deprecated. Please use tf.compat.v1.Session instead.\n",
      "\n",
      "Train on 50000 samples, validate on 10000 samples\n",
      "Epoch 1/10\n",
      "WARNING:tensorflow:From C:\\Miniconda3\\envs\\t1\\lib\\site-packages\\keras\\backend\\tensorflow_backend.py:174: The name tf.get_default_session is deprecated. Please use tf.compat.v1.get_default_session instead.\n",
      "\n",
      "WARNING:tensorflow:From C:\\Miniconda3\\envs\\t1\\lib\\site-packages\\keras\\backend\\tensorflow_backend.py:181: The name tf.ConfigProto is deprecated. Please use tf.compat.v1.ConfigProto instead.\n",
      "\n",
      "WARNING:tensorflow:From C:\\Miniconda3\\envs\\t1\\lib\\site-packages\\keras\\backend\\tensorflow_backend.py:190: The name tf.global_variables is deprecated. Please use tf.compat.v1.global_variables instead.\n",
      "\n",
      "WARNING:tensorflow:From C:\\Miniconda3\\envs\\t1\\lib\\site-packages\\keras\\backend\\tensorflow_backend.py:199: The name tf.is_variable_initialized is deprecated. Please use tf.compat.v1.is_variable_initialized instead.\n",
      "\n",
      "WARNING:tensorflow:From C:\\Miniconda3\\envs\\t1\\lib\\site-packages\\keras\\backend\\tensorflow_backend.py:206: The name tf.variables_initializer is deprecated. Please use tf.compat.v1.variables_initializer instead.\n",
      "\n",
      "50000/50000 [==============================] - 11s 215us/step - loss: 2.1064 - acc: 0.2650 - val_loss: 1.8478 - val_acc: 0.3238\n",
      "Epoch 2/10\n",
      "50000/50000 [==============================] - 6s 110us/step - loss: 1.8314 - acc: 0.3377 - val_loss: 1.8778 - val_acc: 0.3085\n",
      "Epoch 3/10\n",
      "50000/50000 [==============================] - 6s 110us/step - loss: 1.7780 - acc: 0.3607 - val_loss: 1.7387 - val_acc: 0.3676\n",
      "Epoch 4/10\n",
      "50000/50000 [==============================] - 6s 111us/step - loss: 1.7378 - acc: 0.3757 - val_loss: 1.7214 - val_acc: 0.3943\n",
      "Epoch 5/10\n",
      "50000/50000 [==============================] - 6s 111us/step - loss: 1.7146 - acc: 0.3841 - val_loss: 1.6876 - val_acc: 0.3938\n",
      "Epoch 6/10\n",
      "50000/50000 [==============================] - 5s 109us/step - loss: 1.7011 - acc: 0.3907 - val_loss: 1.6982 - val_acc: 0.4032\n",
      "Epoch 7/10\n",
      "50000/50000 [==============================] - 6s 110us/step - loss: 1.6853 - acc: 0.4005 - val_loss: 1.6245 - val_acc: 0.4215\n",
      "Epoch 8/10\n",
      "50000/50000 [==============================] - 5s 109us/step - loss: 1.6755 - acc: 0.4006 - val_loss: 1.5864 - val_acc: 0.4424\n",
      "Epoch 9/10\n",
      "50000/50000 [==============================] - 6s 111us/step - loss: 1.6632 - acc: 0.4033 - val_loss: 1.6040 - val_acc: 0.4295\n",
      "Epoch 10/10\n",
      "50000/50000 [==============================] - 5s 110us/step - loss: 1.6636 - acc: 0.4053 - val_loss: 1.5783 - val_acc: 0.4428\n",
      "Train on 50000 samples, validate on 10000 samples\n",
      "Epoch 1/10\n",
      "50000/50000 [==============================] - 3s 69us/step - loss: 1.6212 - acc: 0.4241 - val_loss: 1.5487 - val_acc: 0.4581\n",
      "Epoch 2/10\n",
      "50000/50000 [==============================] - 3s 69us/step - loss: 1.6086 - acc: 0.4240 - val_loss: 1.6286 - val_acc: 0.4297\n",
      "Epoch 3/10\n",
      "50000/50000 [==============================] - 3s 70us/step - loss: 1.6035 - acc: 0.4271 - val_loss: 1.5493 - val_acc: 0.4437\n",
      "Epoch 4/10\n",
      "50000/50000 [==============================] - 3s 69us/step - loss: 1.5993 - acc: 0.4275 - val_loss: 1.5931 - val_acc: 0.4419\n",
      "Epoch 5/10\n",
      "50000/50000 [==============================] - 3s 68us/step - loss: 1.5911 - acc: 0.4346 - val_loss: 1.5661 - val_acc: 0.4468\n",
      "Epoch 6/10\n",
      "50000/50000 [==============================] - 3s 69us/step - loss: 1.5862 - acc: 0.4336 - val_loss: 1.6053 - val_acc: 0.4191\n",
      "Epoch 7/10\n",
      "50000/50000 [==============================] - 3s 70us/step - loss: 1.5826 - acc: 0.4359 - val_loss: 1.5271 - val_acc: 0.4608\n",
      "Epoch 8/10\n",
      "50000/50000 [==============================] - 3s 68us/step - loss: 1.5773 - acc: 0.4354 - val_loss: 1.6393 - val_acc: 0.4256\n",
      "Epoch 9/10\n",
      "50000/50000 [==============================] - 3s 69us/step - loss: 1.5738 - acc: 0.4390 - val_loss: 1.5834 - val_acc: 0.4285\n",
      "Epoch 10/10\n",
      "50000/50000 [==============================] - 3s 70us/step - loss: 1.5684 - acc: 0.4412 - val_loss: 1.5125 - val_acc: 0.4778\n",
      "Train on 50000 samples, validate on 10000 samples\n",
      "Epoch 1/10\n",
      "50000/50000 [==============================] - 2s 45us/step - loss: 1.5424 - acc: 0.4500 - val_loss: 1.5262 - val_acc: 0.4524\n",
      "Epoch 2/10\n",
      "50000/50000 [==============================] - 2s 45us/step - loss: 1.5354 - acc: 0.4506 - val_loss: 1.5625 - val_acc: 0.4413\n",
      "Epoch 3/10\n",
      "50000/50000 [==============================] - 2s 46us/step - loss: 1.5322 - acc: 0.4507 - val_loss: 1.5402 - val_acc: 0.4544\n",
      "Epoch 4/10\n",
      "50000/50000 [==============================] - 2s 46us/step - loss: 1.5270 - acc: 0.4522 - val_loss: 1.5480 - val_acc: 0.4507\n",
      "Epoch 5/10\n",
      "50000/50000 [==============================] - 2s 46us/step - loss: 1.5253 - acc: 0.4557 - val_loss: 1.5523 - val_acc: 0.4485\n",
      "Epoch 6/10\n",
      "50000/50000 [==============================] - 2s 45us/step - loss: 1.5236 - acc: 0.4535 - val_loss: 1.5305 - val_acc: 0.4511\n",
      "Epoch 7/10\n",
      "50000/50000 [==============================] - 2s 46us/step - loss: 1.5136 - acc: 0.4586 - val_loss: 1.5425 - val_acc: 0.4565\n",
      "Epoch 8/10\n",
      "50000/50000 [==============================] - 2s 46us/step - loss: 1.5131 - acc: 0.4597 - val_loss: 1.5679 - val_acc: 0.4382\n",
      "Epoch 9/10\n",
      "50000/50000 [==============================] - 2s 46us/step - loss: 1.5106 - acc: 0.4613 - val_loss: 1.4991 - val_acc: 0.4739\n",
      "Epoch 10/10\n",
      "50000/50000 [==============================] - 2s 46us/step - loss: 1.5091 - acc: 0.4596 - val_loss: 1.5639 - val_acc: 0.4361\n"
     ]
    }
   ],
   "source": [
    "for batch_size in BATCH_SIZE:\n",
    "    epochs = 10 # 訓練的 epochs 數量\n",
    "    dnn.fit(x_train, y_train,\n",
    "                    batch_size=batch_size,\n",
    "                    epochs=epochs,\n",
    "                    verbose=1,\n",
    "                    validation_data=(x_test, y_test))\n",
    "    DNN[f'b{str(batch_size)}'] = dnn.evaluate(x_test, y_test, verbose=0)"
   ]
  },
  {
   "cell_type": "code",
   "execution_count": 8,
   "metadata": {
    "collapsed": true
   },
   "outputs": [
    {
     "name": "stdout",
     "output_type": "stream",
     "text": [
      "Train on 50000 samples, validate on 10000 samples\n",
      "Epoch 1/5\n",
      "50000/50000 [==============================] - 3s 70us/step - loss: 1.5383 - acc: 0.4507 - val_loss: 1.5052 - val_acc: 0.4697\n",
      "Epoch 2/5\n",
      "50000/50000 [==============================] - 3s 70us/step - loss: 1.5288 - acc: 0.4539 - val_loss: 1.5017 - val_acc: 0.4807\n",
      "Epoch 3/5\n",
      "50000/50000 [==============================] - 4s 70us/step - loss: 1.5359 - acc: 0.4523 - val_loss: 1.5148 - val_acc: 0.4587\n",
      "Epoch 4/5\n",
      "50000/50000 [==============================] - 3s 70us/step - loss: 1.5274 - acc: 0.4550 - val_loss: 1.5149 - val_acc: 0.4629\n",
      "Epoch 5/5\n",
      "50000/50000 [==============================] - 3s 69us/step - loss: 1.5299 - acc: 0.4527 - val_loss: 1.5048 - val_acc: 0.4680\n",
      "Train on 50000 samples, validate on 10000 samples\n",
      "Epoch 1/10\n",
      "50000/50000 [==============================] - 3s 68us/step - loss: 1.5253 - acc: 0.4563 - val_loss: 1.5173 - val_acc: 0.4660\n",
      "Epoch 2/10\n",
      "50000/50000 [==============================] - 3s 68us/step - loss: 1.5283 - acc: 0.4549 - val_loss: 1.5273 - val_acc: 0.4646\n",
      "Epoch 3/10\n",
      "50000/50000 [==============================] - 3s 68us/step - loss: 1.5239 - acc: 0.4566 - val_loss: 1.5012 - val_acc: 0.4710\n",
      "Epoch 4/10\n",
      "50000/50000 [==============================] - 3s 69us/step - loss: 1.5232 - acc: 0.4582 - val_loss: 1.4987 - val_acc: 0.4689\n",
      "Epoch 5/10\n",
      "50000/50000 [==============================] - 3s 69us/step - loss: 1.5256 - acc: 0.4556 - val_loss: 1.4760 - val_acc: 0.4723\n",
      "Epoch 6/10\n",
      "50000/50000 [==============================] - 3s 69us/step - loss: 1.5227 - acc: 0.4603 - val_loss: 1.5563 - val_acc: 0.4438\n",
      "Epoch 7/10\n",
      "50000/50000 [==============================] - 3s 70us/step - loss: 1.5160 - acc: 0.4593 - val_loss: 1.4919 - val_acc: 0.4756\n",
      "Epoch 8/10\n",
      "50000/50000 [==============================] - 3s 70us/step - loss: 1.5166 - acc: 0.4601 - val_loss: 1.5227 - val_acc: 0.4640\n",
      "Epoch 9/10\n",
      "50000/50000 [==============================] - 3s 69us/step - loss: 1.5142 - acc: 0.4618 - val_loss: 1.4929 - val_acc: 0.4745\n",
      "Epoch 10/10\n",
      "50000/50000 [==============================] - 3s 69us/step - loss: 1.5075 - acc: 0.4642 - val_loss: 1.5586 - val_acc: 0.4437\n",
      "Train on 50000 samples, validate on 10000 samples\n",
      "Epoch 1/50\n",
      "50000/50000 [==============================] - 3s 69us/step - loss: 1.5144 - acc: 0.4613 - val_loss: 1.5171 - val_acc: 0.4723\n",
      "Epoch 2/50\n",
      "50000/50000 [==============================] - 3s 69us/step - loss: 1.5078 - acc: 0.4646 - val_loss: 1.4846 - val_acc: 0.4803\n",
      "Epoch 3/50\n",
      "50000/50000 [==============================] - 4s 70us/step - loss: 1.5096 - acc: 0.4662 - val_loss: 1.4920 - val_acc: 0.4722\n",
      "Epoch 4/50\n",
      "50000/50000 [==============================] - 3s 70us/step - loss: 1.5110 - acc: 0.4636 - val_loss: 1.5283 - val_acc: 0.4569\n",
      "Epoch 5/50\n",
      "50000/50000 [==============================] - 3s 69us/step - loss: 1.5101 - acc: 0.4634 - val_loss: 1.5132 - val_acc: 0.4708\n",
      "Epoch 6/50\n",
      "50000/50000 [==============================] - 3s 70us/step - loss: 1.5074 - acc: 0.4662 - val_loss: 1.5430 - val_acc: 0.4556\n",
      "Epoch 7/50\n",
      "50000/50000 [==============================] - 3s 68us/step - loss: 1.5100 - acc: 0.4634 - val_loss: 1.5442 - val_acc: 0.4483\n",
      "Epoch 8/50\n",
      "50000/50000 [==============================] - 3s 69us/step - loss: 1.5046 - acc: 0.4623 - val_loss: 1.5377 - val_acc: 0.4513\n",
      "Epoch 9/50\n",
      "50000/50000 [==============================] - 3s 69us/step - loss: 1.4976 - acc: 0.4707 - val_loss: 1.5412 - val_acc: 0.4505\n",
      "Epoch 10/50\n",
      "50000/50000 [==============================] - 3s 67us/step - loss: 1.4990 - acc: 0.4673 - val_loss: 1.5027 - val_acc: 0.4673\n",
      "Epoch 11/50\n",
      "50000/50000 [==============================] - 3s 70us/step - loss: 1.5054 - acc: 0.4655 - val_loss: 1.5020 - val_acc: 0.4643\n",
      "Epoch 12/50\n",
      "50000/50000 [==============================] - 3s 70us/step - loss: 1.4986 - acc: 0.4655 - val_loss: 1.4956 - val_acc: 0.4762\n",
      "Epoch 13/50\n",
      "50000/50000 [==============================] - 3s 70us/step - loss: 1.5047 - acc: 0.4666 - val_loss: 1.5440 - val_acc: 0.4465\n",
      "Epoch 14/50\n",
      "50000/50000 [==============================] - 3s 69us/step - loss: 1.5008 - acc: 0.4661 - val_loss: 1.5399 - val_acc: 0.4760\n",
      "Epoch 15/50\n",
      "50000/50000 [==============================] - 4s 71us/step - loss: 1.4962 - acc: 0.4675 - val_loss: 1.5618 - val_acc: 0.4497\n",
      "Epoch 16/50\n",
      "50000/50000 [==============================] - 3s 70us/step - loss: 1.4926 - acc: 0.4680 - val_loss: 1.5227 - val_acc: 0.4622\n",
      "Epoch 17/50\n",
      "50000/50000 [==============================] - 3s 69us/step - loss: 1.4998 - acc: 0.4676 - val_loss: 1.5373 - val_acc: 0.4643\n",
      "Epoch 18/50\n",
      "50000/50000 [==============================] - 3s 70us/step - loss: 1.4913 - acc: 0.4717 - val_loss: 1.5536 - val_acc: 0.4475\n",
      "Epoch 19/50\n",
      "50000/50000 [==============================] - 4s 70us/step - loss: 1.4982 - acc: 0.4670 - val_loss: 1.5056 - val_acc: 0.4618\n",
      "Epoch 20/50\n",
      "50000/50000 [==============================] - 3s 69us/step - loss: 1.4929 - acc: 0.4703 - val_loss: 1.5304 - val_acc: 0.4644\n",
      "Epoch 21/50\n",
      "50000/50000 [==============================] - 3s 69us/step - loss: 1.4874 - acc: 0.4716 - val_loss: 1.6824 - val_acc: 0.4143\n",
      "Epoch 22/50\n",
      "50000/50000 [==============================] - 3s 69us/step - loss: 1.4857 - acc: 0.4707 - val_loss: 1.5354 - val_acc: 0.4483\n",
      "Epoch 23/50\n",
      "50000/50000 [==============================] - 3s 69us/step - loss: 1.4900 - acc: 0.4731 - val_loss: 1.5312 - val_acc: 0.4585\n",
      "Epoch 24/50\n",
      "50000/50000 [==============================] - 3s 69us/step - loss: 1.4920 - acc: 0.4714 - val_loss: 1.5788 - val_acc: 0.4436\n",
      "Epoch 25/50\n",
      "50000/50000 [==============================] - 3s 69us/step - loss: 1.4890 - acc: 0.4733 - val_loss: 1.5404 - val_acc: 0.4502\n",
      "Epoch 26/50\n",
      "50000/50000 [==============================] - 3s 69us/step - loss: 1.4856 - acc: 0.4731 - val_loss: 1.5661 - val_acc: 0.4473\n",
      "Epoch 27/50\n",
      "50000/50000 [==============================] - 3s 68us/step - loss: 1.4884 - acc: 0.4708 - val_loss: 1.5607 - val_acc: 0.4503\n",
      "Epoch 28/50\n",
      "50000/50000 [==============================] - 3s 70us/step - loss: 1.4904 - acc: 0.4712 - val_loss: 1.5225 - val_acc: 0.4658\n",
      "Epoch 29/50\n",
      "50000/50000 [==============================] - 3s 69us/step - loss: 1.4849 - acc: 0.4713 - val_loss: 1.5190 - val_acc: 0.4651\n",
      "Epoch 30/50\n",
      "50000/50000 [==============================] - 4s 75us/step - loss: 1.4878 - acc: 0.4732 - val_loss: 1.5113 - val_acc: 0.4823\n",
      "Epoch 31/50\n",
      "50000/50000 [==============================] - 3s 69us/step - loss: 1.4858 - acc: 0.4724 - val_loss: 1.5267 - val_acc: 0.4609\n",
      "Epoch 32/50\n",
      "50000/50000 [==============================] - 4s 71us/step - loss: 1.4843 - acc: 0.4732 - val_loss: 1.5494 - val_acc: 0.4542\n",
      "Epoch 33/50\n",
      "50000/50000 [==============================] - 4s 77us/step - loss: 1.4750 - acc: 0.4735 - val_loss: 1.6702 - val_acc: 0.4081\n",
      "Epoch 34/50\n",
      "50000/50000 [==============================] - 3s 69us/step - loss: 1.4794 - acc: 0.4748 - val_loss: 1.5819 - val_acc: 0.4530\n",
      "Epoch 35/50\n",
      "50000/50000 [==============================] - 4s 70us/step - loss: 1.4812 - acc: 0.4719 - val_loss: 1.5871 - val_acc: 0.4630\n",
      "Epoch 36/50\n",
      "50000/50000 [==============================] - 3s 70us/step - loss: 1.4790 - acc: 0.4754 - val_loss: 1.5446 - val_acc: 0.4572\n",
      "Epoch 37/50\n",
      "50000/50000 [==============================] - 4s 70us/step - loss: 1.4761 - acc: 0.4791 - val_loss: 1.5278 - val_acc: 0.4554\n",
      "Epoch 38/50\n",
      "50000/50000 [==============================] - 4s 71us/step - loss: 1.4788 - acc: 0.4770 - val_loss: 1.5092 - val_acc: 0.4695\n",
      "Epoch 39/50\n",
      "50000/50000 [==============================] - 4s 71us/step - loss: 1.4804 - acc: 0.4729 - val_loss: 1.5021 - val_acc: 0.4676\n",
      "Epoch 40/50\n",
      "50000/50000 [==============================] - 4s 71us/step - loss: 1.4807 - acc: 0.4762 - val_loss: 1.5644 - val_acc: 0.4554\n",
      "Epoch 41/50\n",
      "50000/50000 [==============================] - 3s 70us/step - loss: 1.4808 - acc: 0.4738 - val_loss: 1.5128 - val_acc: 0.4728\n",
      "Epoch 42/50\n",
      "50000/50000 [==============================] - 3s 70us/step - loss: 1.4786 - acc: 0.4766 - val_loss: 1.5199 - val_acc: 0.4703\n",
      "Epoch 43/50\n",
      "50000/50000 [==============================] - 4s 70us/step - loss: 1.4721 - acc: 0.4780 - val_loss: 1.5232 - val_acc: 0.4656\n",
      "Epoch 44/50\n"
     ]
    },
    {
     "name": "stdout",
     "output_type": "stream",
     "text": [
      "50000/50000 [==============================] - 4s 70us/step - loss: 1.4751 - acc: 0.4777 - val_loss: 1.5496 - val_acc: 0.4689\n",
      "Epoch 45/50\n",
      "50000/50000 [==============================] - 4s 70us/step - loss: 1.4796 - acc: 0.4762 - val_loss: 1.5206 - val_acc: 0.4652\n",
      "Epoch 46/50\n",
      "50000/50000 [==============================] - 4s 71us/step - loss: 1.4770 - acc: 0.4757 - val_loss: 1.5894 - val_acc: 0.4312\n",
      "Epoch 47/50\n",
      "50000/50000 [==============================] - 3s 68us/step - loss: 1.4790 - acc: 0.4766 - val_loss: 1.5255 - val_acc: 0.4579\n",
      "Epoch 48/50\n",
      "50000/50000 [==============================] - 3s 69us/step - loss: 1.4814 - acc: 0.4763 - val_loss: 1.5127 - val_acc: 0.4673\n",
      "Epoch 49/50\n",
      "50000/50000 [==============================] - 3s 70us/step - loss: 1.4744 - acc: 0.4760 - val_loss: 1.5251 - val_acc: 0.4734\n",
      "Epoch 50/50\n",
      "50000/50000 [==============================] - 4s 70us/step - loss: 1.4733 - acc: 0.4768 - val_loss: 1.4986 - val_acc: 0.4703\n"
     ]
    }
   ],
   "source": [
    "for epochs in EPOCHS:\n",
    "    batch_size = 128 # batch 的大小，如果出現 OOM error，請降低這個值\n",
    "    dnn.fit(x_train, y_train,\n",
    "                        batch_size=batch_size,\n",
    "                        epochs=epochs,\n",
    "                        verbose=1,\n",
    "                        validation_data=(x_test, y_test))\n",
    "    DNN[f'e{str(epochs)}'] = dnn.evaluate(x_test, y_test, verbose=0)"
   ]
  },
  {
   "cell_type": "markdown",
   "metadata": {},
   "source": [
    "## 接下來我們使用 CNN 來訓練神經網路\n",
    "CNN 的原理非常適合處理影像類的資料，就讓我們來看看，同樣的訓練條件，CNN 是否顯著優於 DNN 呢?"
   ]
  },
  {
   "cell_type": "code",
   "execution_count": 9,
   "metadata": {},
   "outputs": [
    {
     "name": "stdout",
     "output_type": "stream",
     "text": [
      "x_train shape: (50000, 32, 32, 3)\n",
      "50000 train samples\n",
      "10000 test samples\n"
     ]
    }
   ],
   "source": [
    "(x_train, y_train), (x_test, y_test) = cifar10.load_data()\n",
    "print('x_train shape:', x_train.shape)\n",
    "print(x_train.shape[0], 'train samples')\n",
    "print(x_test.shape[0], 'test samples')\n",
    "x_train = x_train.astype('float32')\n",
    "x_test = x_test.astype('float32')\n",
    "x_train /= 255\n",
    "x_test /= 255\n",
    "\n",
    "# Convert class vectors to binary class matrices.\n",
    "y_train = keras.utils.to_categorical(y_train, num_classes)\n",
    "y_test = keras.utils.to_categorical(y_test, num_classes)"
   ]
  },
  {
   "cell_type": "code",
   "execution_count": 10,
   "metadata": {
    "collapsed": true
   },
   "outputs": [
    {
     "name": "stdout",
     "output_type": "stream",
     "text": [
      "WARNING:tensorflow:From C:\\Miniconda3\\envs\\t1\\lib\\site-packages\\keras\\backend\\tensorflow_backend.py:3976: The name tf.nn.max_pool is deprecated. Please use tf.nn.max_pool2d instead.\n",
      "\n",
      "_________________________________________________________________\n",
      "Layer (type)                 Output Shape              Param #   \n",
      "=================================================================\n",
      "conv2d_1 (Conv2D)            (None, 32, 32, 32)        896       \n",
      "_________________________________________________________________\n",
      "activation_1 (Activation)    (None, 32, 32, 32)        0         \n",
      "_________________________________________________________________\n",
      "conv2d_2 (Conv2D)            (None, 30, 30, 32)        9248      \n",
      "_________________________________________________________________\n",
      "activation_2 (Activation)    (None, 30, 30, 32)        0         \n",
      "_________________________________________________________________\n",
      "max_pooling2d_1 (MaxPooling2 (None, 15, 15, 32)        0         \n",
      "_________________________________________________________________\n",
      "dropout_3 (Dropout)          (None, 15, 15, 32)        0         \n",
      "_________________________________________________________________\n",
      "conv2d_3 (Conv2D)            (None, 15, 15, 64)        18496     \n",
      "_________________________________________________________________\n",
      "activation_3 (Activation)    (None, 15, 15, 64)        0         \n",
      "_________________________________________________________________\n",
      "conv2d_4 (Conv2D)            (None, 13, 13, 64)        36928     \n",
      "_________________________________________________________________\n",
      "activation_4 (Activation)    (None, 13, 13, 64)        0         \n",
      "_________________________________________________________________\n",
      "max_pooling2d_2 (MaxPooling2 (None, 6, 6, 64)          0         \n",
      "_________________________________________________________________\n",
      "dropout_4 (Dropout)          (None, 6, 6, 64)          0         \n",
      "_________________________________________________________________\n",
      "flatten_1 (Flatten)          (None, 2304)              0         \n",
      "_________________________________________________________________\n",
      "dense_4 (Dense)              (None, 512)               1180160   \n",
      "_________________________________________________________________\n",
      "activation_5 (Activation)    (None, 512)               0         \n",
      "_________________________________________________________________\n",
      "dropout_5 (Dropout)          (None, 512)               0         \n",
      "_________________________________________________________________\n",
      "dense_5 (Dense)              (None, 10)                5130      \n",
      "_________________________________________________________________\n",
      "activation_6 (Activation)    (None, 10)                0         \n",
      "=================================================================\n",
      "Total params: 1,250,858\n",
      "Trainable params: 1,250,858\n",
      "Non-trainable params: 0\n",
      "_________________________________________________________________\n"
     ]
    }
   ],
   "source": [
    "cnn = Sequential()\n",
    "cnn.add(Conv2D(32, (3, 3), padding='same',\n",
    "                 input_shape=x_train.shape[1:]))\n",
    "cnn.add(Activation('relu'))\n",
    "cnn.add(Conv2D(32, (3, 3)))\n",
    "cnn.add(Activation('relu'))\n",
    "cnn.add(MaxPooling2D(pool_size=(2, 2)))\n",
    "cnn.add(Dropout(0.25))\n",
    "\n",
    "cnn.add(Conv2D(64, (3, 3), padding='same'))\n",
    "cnn.add(Activation('relu'))\n",
    "cnn.add(Conv2D(64, (3, 3)))\n",
    "cnn.add(Activation('relu'))\n",
    "cnn.add(MaxPooling2D(pool_size=(2, 2)))\n",
    "cnn.add(Dropout(0.25))\n",
    "\n",
    "cnn.add(Flatten())\n",
    "cnn.add(Dense(512))\n",
    "cnn.add(Activation('relu'))\n",
    "cnn.add(Dropout(0.5))\n",
    "cnn.add(Dense(num_classes))\n",
    "cnn.add(Activation('softmax'))\n",
    "cnn.summary()\n",
    "\n",
    "cnn.compile(loss='categorical_crossentropy',\n",
    "              optimizer=RMSprop(),\n",
    "              metrics=['accuracy'])"
   ]
  },
  {
   "cell_type": "code",
   "execution_count": 11,
   "metadata": {},
   "outputs": [],
   "source": [
    "CNN = {}"
   ]
  },
  {
   "cell_type": "code",
   "execution_count": 12,
   "metadata": {
    "collapsed": true
   },
   "outputs": [
    {
     "name": "stdout",
     "output_type": "stream",
     "text": [
      "Train on 50000 samples, validate on 10000 samples\n",
      "Epoch 1/10\n",
      "50000/50000 [==============================] - 19s 373us/step - loss: 1.6197 - acc: 0.4119 - val_loss: 1.3490 - val_acc: 0.5251\n",
      "Epoch 2/10\n",
      "50000/50000 [==============================] - 16s 321us/step - loss: 1.1560 - acc: 0.5924 - val_loss: 1.0372 - val_acc: 0.6297\n",
      "Epoch 3/10\n",
      "50000/50000 [==============================] - 16s 318us/step - loss: 0.9846 - acc: 0.6571 - val_loss: 0.9103 - val_acc: 0.6804\n",
      "Epoch 4/10\n",
      "50000/50000 [==============================] - 16s 319us/step - loss: 0.8868 - acc: 0.6928 - val_loss: 1.2985 - val_acc: 0.5998\n",
      "Epoch 5/10\n",
      "50000/50000 [==============================] - 16s 315us/step - loss: 0.8334 - acc: 0.7114 - val_loss: 0.8425 - val_acc: 0.7173\n",
      "Epoch 6/10\n",
      "50000/50000 [==============================] - 16s 314us/step - loss: 0.7935 - acc: 0.7271 - val_loss: 1.0503 - val_acc: 0.6584\n",
      "Epoch 7/10\n",
      "50000/50000 [==============================] - 16s 314us/step - loss: 0.7741 - acc: 0.7343 - val_loss: 0.7617 - val_acc: 0.7484\n",
      "Epoch 8/10\n",
      "50000/50000 [==============================] - 16s 315us/step - loss: 0.7538 - acc: 0.7424 - val_loss: 1.0708 - val_acc: 0.6630\n",
      "Epoch 9/10\n",
      "50000/50000 [==============================] - 16s 315us/step - loss: 0.7531 - acc: 0.7458 - val_loss: 0.7823 - val_acc: 0.7433\n",
      "Epoch 10/10\n",
      "50000/50000 [==============================] - 16s 321us/step - loss: 0.7465 - acc: 0.7493 - val_loss: 0.8783 - val_acc: 0.7084\n",
      "Train on 50000 samples, validate on 10000 samples\n",
      "Epoch 1/10\n",
      "50000/50000 [==============================] - 14s 277us/step - loss: 0.6896 - acc: 0.7670 - val_loss: 0.7925 - val_acc: 0.7587\n",
      "Epoch 2/10\n",
      "50000/50000 [==============================] - 13s 260us/step - loss: 0.6723 - acc: 0.7725 - val_loss: 0.7674 - val_acc: 0.7460\n",
      "Epoch 3/10\n",
      "50000/50000 [==============================] - 13s 264us/step - loss: 0.6505 - acc: 0.7824 - val_loss: 0.6964 - val_acc: 0.7752\n",
      "Epoch 4/10\n",
      "50000/50000 [==============================] - 13s 263us/step - loss: 0.6442 - acc: 0.7832 - val_loss: 0.6558 - val_acc: 0.7820\n",
      "Epoch 5/10\n",
      "50000/50000 [==============================] - 13s 263us/step - loss: 0.6397 - acc: 0.7866 - val_loss: 0.7182 - val_acc: 0.7732\n",
      "Epoch 6/10\n",
      "50000/50000 [==============================] - 13s 262us/step - loss: 0.6249 - acc: 0.7904 - val_loss: 0.7165 - val_acc: 0.7638\n",
      "Epoch 7/10\n",
      "50000/50000 [==============================] - 13s 263us/step - loss: 0.6246 - acc: 0.7922 - val_loss: 0.6848 - val_acc: 0.7918\n",
      "Epoch 8/10\n",
      "50000/50000 [==============================] - 13s 262us/step - loss: 0.6195 - acc: 0.7953 - val_loss: 0.7257 - val_acc: 0.7693\n",
      "Epoch 9/10\n",
      "50000/50000 [==============================] - 13s 262us/step - loss: 0.6178 - acc: 0.7961 - val_loss: 0.6725 - val_acc: 0.7854\n",
      "Epoch 10/10\n",
      "50000/50000 [==============================] - 13s 261us/step - loss: 0.6080 - acc: 0.7959 - val_loss: 0.6290 - val_acc: 0.7952\n",
      "Train on 50000 samples, validate on 10000 samples\n",
      "Epoch 1/10\n",
      "50000/50000 [==============================] - 12s 236us/step - loss: 0.5662 - acc: 0.8117 - val_loss: 0.7365 - val_acc: 0.7822\n",
      "Epoch 2/10\n",
      "50000/50000 [==============================] - 11s 229us/step - loss: 0.5550 - acc: 0.8128 - val_loss: 0.6998 - val_acc: 0.7897\n",
      "Epoch 3/10\n",
      "50000/50000 [==============================] - 12s 232us/step - loss: 0.5482 - acc: 0.8182 - val_loss: 0.6540 - val_acc: 0.7818\n",
      "Epoch 4/10\n",
      "50000/50000 [==============================] - 12s 235us/step - loss: 0.5384 - acc: 0.8199 - val_loss: 0.7217 - val_acc: 0.7687\n",
      "Epoch 5/10\n",
      "50000/50000 [==============================] - 11s 229us/step - loss: 0.5415 - acc: 0.8196 - val_loss: 0.9352 - val_acc: 0.7439\n",
      "Epoch 6/10\n",
      "50000/50000 [==============================] - 11s 229us/step - loss: 0.5335 - acc: 0.8208 - val_loss: 0.7024 - val_acc: 0.7778\n",
      "Epoch 7/10\n",
      "50000/50000 [==============================] - 11s 229us/step - loss: 0.5190 - acc: 0.8268 - val_loss: 0.7336 - val_acc: 0.7973\n",
      "Epoch 8/10\n",
      "50000/50000 [==============================] - 11s 229us/step - loss: 0.5211 - acc: 0.8274 - val_loss: 0.6471 - val_acc: 0.7953\n",
      "Epoch 9/10\n",
      "50000/50000 [==============================] - 12s 231us/step - loss: 0.5137 - acc: 0.8267 - val_loss: 0.6615 - val_acc: 0.7908\n",
      "Epoch 10/10\n",
      "50000/50000 [==============================] - 11s 228us/step - loss: 0.5112 - acc: 0.8295 - val_loss: 0.6371 - val_acc: 0.8016\n"
     ]
    }
   ],
   "source": [
    "for batch_size in BATCH_SIZE:\n",
    "    epochs = 10 # 訓練的 epochs 數量\n",
    "    history = cnn.fit(x_train, y_train,\n",
    "                    batch_size=batch_size,\n",
    "                    epochs=epochs,\n",
    "                    verbose=1,\n",
    "                    validation_data=(x_test, y_test))\n",
    "    CNN[f'b{str(batch_size)}'] = cnn.evaluate(x_test, y_test, verbose=0)"
   ]
  },
  {
   "cell_type": "code",
   "execution_count": 13,
   "metadata": {
    "collapsed": true
   },
   "outputs": [
    {
     "name": "stdout",
     "output_type": "stream",
     "text": [
      "Train on 50000 samples, validate on 10000 samples\n",
      "Epoch 1/5\n",
      "50000/50000 [==============================] - 13s 266us/step - loss: 0.5466 - acc: 0.8188 - val_loss: 0.6987 - val_acc: 0.7861\n",
      "Epoch 2/5\n",
      "50000/50000 [==============================] - 13s 266us/step - loss: 0.5613 - acc: 0.8152 - val_loss: 0.7138 - val_acc: 0.7654\n",
      "Epoch 3/5\n",
      "50000/50000 [==============================] - 13s 265us/step - loss: 0.5732 - acc: 0.8115 - val_loss: 0.6549 - val_acc: 0.7852\n",
      "Epoch 4/5\n",
      "50000/50000 [==============================] - 13s 263us/step - loss: 0.5705 - acc: 0.8148 - val_loss: 0.7039 - val_acc: 0.7777\n",
      "Epoch 5/5\n",
      "50000/50000 [==============================] - 13s 264us/step - loss: 0.5784 - acc: 0.8124 - val_loss: 0.7326 - val_acc: 0.7873\n",
      "Train on 50000 samples, validate on 10000 samples\n",
      "Epoch 1/10\n",
      "50000/50000 [==============================] - 13s 264us/step - loss: 0.5781 - acc: 0.8090 - val_loss: 0.6568 - val_acc: 0.7985\n",
      "Epoch 2/10\n",
      "50000/50000 [==============================] - 13s 263us/step - loss: 0.5967 - acc: 0.8055 - val_loss: 0.7464 - val_acc: 0.7675\n",
      "Epoch 3/10\n",
      "50000/50000 [==============================] - 13s 269us/step - loss: 0.5905 - acc: 0.8091 - val_loss: 0.6377 - val_acc: 0.7978\n",
      "Epoch 4/10\n",
      "50000/50000 [==============================] - 13s 267us/step - loss: 0.6004 - acc: 0.8075 - val_loss: 0.7230 - val_acc: 0.7739\n",
      "Epoch 5/10\n",
      "50000/50000 [==============================] - 13s 263us/step - loss: 0.6063 - acc: 0.8049 - val_loss: 0.8164 - val_acc: 0.7814\n",
      "Epoch 6/10\n",
      "50000/50000 [==============================] - 13s 267us/step - loss: 0.6017 - acc: 0.8042 - val_loss: 0.6934 - val_acc: 0.7825\n",
      "Epoch 7/10\n",
      "50000/50000 [==============================] - 13s 266us/step - loss: 0.6149 - acc: 0.8030 - val_loss: 0.7548 - val_acc: 0.7699\n",
      "Epoch 8/10\n",
      "50000/50000 [==============================] - 13s 267us/step - loss: 0.6144 - acc: 0.8026 - val_loss: 0.7444 - val_acc: 0.7587\n",
      "Epoch 9/10\n",
      "50000/50000 [==============================] - 14s 275us/step - loss: 0.6292 - acc: 0.7992 - val_loss: 0.7122 - val_acc: 0.7896\n",
      "Epoch 10/10\n",
      "50000/50000 [==============================] - 13s 264us/step - loss: 0.6182 - acc: 0.8001 - val_loss: 0.6989 - val_acc: 0.7820\n",
      "Train on 50000 samples, validate on 10000 samples\n",
      "Epoch 1/50\n",
      "50000/50000 [==============================] - 13s 266us/step - loss: 0.6370 - acc: 0.7938 - val_loss: 0.6960 - val_acc: 0.7760\n",
      "Epoch 2/50\n",
      "50000/50000 [==============================] - 13s 261us/step - loss: 0.6429 - acc: 0.7942 - val_loss: 0.7637 - val_acc: 0.7831\n",
      "Epoch 3/50\n",
      "50000/50000 [==============================] - 13s 261us/step - loss: 0.6451 - acc: 0.7930 - val_loss: 0.7208 - val_acc: 0.7771\n",
      "Epoch 4/50\n",
      "50000/50000 [==============================] - 13s 260us/step - loss: 0.6535 - acc: 0.7910 - val_loss: 0.6504 - val_acc: 0.7881\n",
      "Epoch 5/50\n",
      "50000/50000 [==============================] - 13s 258us/step - loss: 0.6554 - acc: 0.7898 - val_loss: 0.7551 - val_acc: 0.7730\n",
      "Epoch 6/50\n",
      "50000/50000 [==============================] - 13s 259us/step - loss: 0.6662 - acc: 0.7869 - val_loss: 0.7490 - val_acc: 0.7806\n",
      "Epoch 7/50\n",
      "50000/50000 [==============================] - 13s 267us/step - loss: 0.6715 - acc: 0.7861 - val_loss: 0.7315 - val_acc: 0.7743\n",
      "Epoch 8/50\n",
      "50000/50000 [==============================] - 13s 265us/step - loss: 0.6727 - acc: 0.7845 - val_loss: 0.6736 - val_acc: 0.7892\n",
      "Epoch 9/50\n",
      "50000/50000 [==============================] - 13s 262us/step - loss: 0.6708 - acc: 0.7846 - val_loss: 0.7414 - val_acc: 0.7772\n",
      "Epoch 10/50\n",
      "50000/50000 [==============================] - 13s 262us/step - loss: 0.6814 - acc: 0.7841 - val_loss: 0.7217 - val_acc: 0.7857\n",
      "Epoch 11/50\n",
      "50000/50000 [==============================] - 13s 262us/step - loss: 0.6883 - acc: 0.7814 - val_loss: 0.7488 - val_acc: 0.7625\n",
      "Epoch 12/50\n",
      "50000/50000 [==============================] - 13s 262us/step - loss: 0.6898 - acc: 0.7840 - val_loss: 1.0698 - val_acc: 0.6827\n",
      "Epoch 13/50\n",
      "50000/50000 [==============================] - 13s 262us/step - loss: 0.6973 - acc: 0.7798 - val_loss: 0.8221 - val_acc: 0.7627\n",
      "Epoch 14/50\n",
      "50000/50000 [==============================] - 13s 262us/step - loss: 0.7030 - acc: 0.7751 - val_loss: 0.7473 - val_acc: 0.7581\n",
      "Epoch 15/50\n",
      "50000/50000 [==============================] - 13s 257us/step - loss: 0.7104 - acc: 0.7762 - val_loss: 0.7129 - val_acc: 0.7683\n",
      "Epoch 16/50\n",
      "50000/50000 [==============================] - 13s 261us/step - loss: 0.7172 - acc: 0.7744 - val_loss: 1.0455 - val_acc: 0.6774\n",
      "Epoch 17/50\n",
      "50000/50000 [==============================] - 13s 260us/step - loss: 0.7210 - acc: 0.7726 - val_loss: 0.8320 - val_acc: 0.7400\n",
      "Epoch 18/50\n",
      "50000/50000 [==============================] - 13s 259us/step - loss: 0.7289 - acc: 0.7703 - val_loss: 0.7332 - val_acc: 0.7765\n",
      "Epoch 19/50\n",
      "50000/50000 [==============================] - 13s 261us/step - loss: 0.7327 - acc: 0.7687 - val_loss: 0.9331 - val_acc: 0.7540\n",
      "Epoch 20/50\n",
      "50000/50000 [==============================] - 13s 261us/step - loss: 0.7317 - acc: 0.7681 - val_loss: 0.7453 - val_acc: 0.7799\n",
      "Epoch 21/50\n",
      "50000/50000 [==============================] - 13s 261us/step - loss: 0.7480 - acc: 0.7656 - val_loss: 0.7025 - val_acc: 0.7885\n",
      "Epoch 22/50\n",
      "50000/50000 [==============================] - 13s 261us/step - loss: 0.7511 - acc: 0.7627 - val_loss: 0.7287 - val_acc: 0.7605\n",
      "Epoch 23/50\n",
      "50000/50000 [==============================] - 13s 261us/step - loss: 0.7605 - acc: 0.7590 - val_loss: 0.9111 - val_acc: 0.7176\n",
      "Epoch 24/50\n",
      "50000/50000 [==============================] - 13s 261us/step - loss: 0.7638 - acc: 0.7596 - val_loss: 0.9486 - val_acc: 0.7115\n",
      "Epoch 25/50\n",
      "50000/50000 [==============================] - 13s 262us/step - loss: 0.7669 - acc: 0.7579 - val_loss: 0.9823 - val_acc: 0.7457\n",
      "Epoch 26/50\n",
      "50000/50000 [==============================] - 13s 263us/step - loss: 0.7835 - acc: 0.7554 - val_loss: 0.8343 - val_acc: 0.7642\n",
      "Epoch 27/50\n",
      "50000/50000 [==============================] - 13s 264us/step - loss: 0.7807 - acc: 0.7527 - val_loss: 0.7868 - val_acc: 0.7439\n",
      "Epoch 28/50\n",
      "50000/50000 [==============================] - 13s 264us/step - loss: 0.7857 - acc: 0.7537 - val_loss: 0.7576 - val_acc: 0.7524\n",
      "Epoch 29/50\n",
      "50000/50000 [==============================] - 13s 264us/step - loss: 0.7964 - acc: 0.7509 - val_loss: 0.9893 - val_acc: 0.7500\n",
      "Epoch 30/50\n",
      "50000/50000 [==============================] - 13s 262us/step - loss: 0.8065 - acc: 0.7475 - val_loss: 0.9517 - val_acc: 0.7262\n",
      "Epoch 31/50\n",
      "50000/50000 [==============================] - 13s 264us/step - loss: 0.8190 - acc: 0.7461 - val_loss: 0.7104 - val_acc: 0.7685\n",
      "Epoch 32/50\n",
      "50000/50000 [==============================] - 13s 264us/step - loss: 0.8177 - acc: 0.7426 - val_loss: 0.7511 - val_acc: 0.7677\n",
      "Epoch 33/50\n",
      "50000/50000 [==============================] - 13s 260us/step - loss: 0.8172 - acc: 0.7432 - val_loss: 0.8378 - val_acc: 0.7296\n",
      "Epoch 34/50\n",
      "50000/50000 [==============================] - 13s 258us/step - loss: 0.8293 - acc: 0.7409 - val_loss: 0.9118 - val_acc: 0.7451\n",
      "Epoch 35/50\n",
      "50000/50000 [==============================] - 13s 259us/step - loss: 0.8381 - acc: 0.7372 - val_loss: 0.7858 - val_acc: 0.7542\n",
      "Epoch 36/50\n",
      "50000/50000 [==============================] - 13s 259us/step - loss: 0.8489 - acc: 0.7369 - val_loss: 0.7721 - val_acc: 0.7473\n",
      "Epoch 37/50\n",
      "50000/50000 [==============================] - 13s 260us/step - loss: 0.8338 - acc: 0.7379 - val_loss: 0.9025 - val_acc: 0.7183\n",
      "Epoch 38/50\n",
      "50000/50000 [==============================] - 13s 263us/step - loss: 0.8608 - acc: 0.7324 - val_loss: 0.7540 - val_acc: 0.7718\n",
      "Epoch 39/50\n",
      "50000/50000 [==============================] - 13s 261us/step - loss: 0.8497 - acc: 0.7324 - val_loss: 0.8481 - val_acc: 0.7526\n",
      "Epoch 40/50\n",
      "50000/50000 [==============================] - 13s 262us/step - loss: 0.8696 - acc: 0.7319 - val_loss: 0.9187 - val_acc: 0.7216\n",
      "Epoch 41/50\n",
      "50000/50000 [==============================] - 13s 258us/step - loss: 0.8734 - acc: 0.7270 - val_loss: 0.9353 - val_acc: 0.7108\n",
      "Epoch 42/50\n",
      "50000/50000 [==============================] - 13s 261us/step - loss: 0.8707 - acc: 0.7278 - val_loss: 0.7313 - val_acc: 0.7597\n",
      "Epoch 43/50\n"
     ]
    },
    {
     "name": "stdout",
     "output_type": "stream",
     "text": [
      "50000/50000 [==============================] - 13s 261us/step - loss: 0.8793 - acc: 0.7250 - val_loss: 0.9156 - val_acc: 0.7177\n",
      "Epoch 44/50\n",
      "50000/50000 [==============================] - 13s 261us/step - loss: 0.8930 - acc: 0.7183 - val_loss: 0.8386 - val_acc: 0.7321\n",
      "Epoch 45/50\n",
      "50000/50000 [==============================] - 13s 260us/step - loss: 0.8975 - acc: 0.7203 - val_loss: 0.8529 - val_acc: 0.7289\n",
      "Epoch 46/50\n",
      "50000/50000 [==============================] - 13s 261us/step - loss: 0.9136 - acc: 0.7158 - val_loss: 0.7421 - val_acc: 0.7663\n",
      "Epoch 47/50\n",
      "50000/50000 [==============================] - 13s 259us/step - loss: 0.9191 - acc: 0.7141 - val_loss: 0.8035 - val_acc: 0.7359\n",
      "Epoch 48/50\n",
      "50000/50000 [==============================] - 13s 263us/step - loss: 0.9182 - acc: 0.7160 - val_loss: 0.7698 - val_acc: 0.7607\n",
      "Epoch 49/50\n",
      "50000/50000 [==============================] - 13s 261us/step - loss: 0.9362 - acc: 0.7107 - val_loss: 2.0077 - val_acc: 0.5728\n",
      "Epoch 50/50\n",
      "50000/50000 [==============================] - 13s 262us/step - loss: 0.9412 - acc: 0.7048 - val_loss: 0.8315 - val_acc: 0.7326\n"
     ]
    }
   ],
   "source": [
    "for epochs in EPOCHS:\n",
    "    batch_size = 128\n",
    "    history = cnn.fit(x_train, y_train,\n",
    "                    batch_size=batch_size,\n",
    "                    epochs=epochs,\n",
    "                    verbose=1,\n",
    "                    validation_data=(x_test, y_test))\n",
    "    CNN[f'e{str(epochs)}'] = cnn.evaluate(x_test, y_test, verbose=0)"
   ]
  },
  {
   "cell_type": "markdown",
   "metadata": {},
   "source": [
    "## DNN"
   ]
  },
  {
   "cell_type": "code",
   "execution_count": 14,
   "metadata": {
    "scrolled": true
   },
   "outputs": [
    {
     "data": {
      "text/plain": [
       "{'b64': [0.8783127338409423, 0.7084],\n",
       " 'b128': [0.6290167245864868, 0.7952],\n",
       " 'b256': [0.6371337666034699, 0.8016],\n",
       " 'e5': [0.7326333536624908, 0.7873],\n",
       " 'e10': [0.6988567898750305, 0.782],\n",
       " 'e50': [0.831518284702301, 0.7326]}"
      ]
     },
     "execution_count": 14,
     "metadata": {},
     "output_type": "execute_result"
    }
   ],
   "source": [
    "DNN"
   ]
  },
  {
   "cell_type": "markdown",
   "metadata": {},
   "source": [
    "## CNN"
   ]
  },
  {
   "cell_type": "code",
   "execution_count": 15,
   "metadata": {
    "scrolled": true
   },
   "outputs": [
    {
     "data": {
      "text/plain": [
       "{}"
      ]
     },
     "execution_count": 15,
     "metadata": {},
     "output_type": "execute_result"
    }
   ],
   "source": [
    "CNN"
   ]
  },
  {
   "cell_type": "markdown",
   "metadata": {},
   "source": [
    "[loss, acc]"
   ]
  },
  {
   "cell_type": "markdown",
   "metadata": {},
   "source": [
    "## 同樣運算 10 個 epochs，但 CNN 在 test data 的準確率顯著優於 DNN!"
   ]
  },
  {
   "cell_type": "markdown",
   "metadata": {},
   "source": [
    "## 作業\n",
    "1. 請試著調整各個超參數，並說明那些超參數對於結果有明顯的影響?\n",
    "\n",
    "        epochs與batch_size皆與準確度呈正相關，\n",
    "2. CNN 與 DNN 哪個模型的參數數量比較多? 造成參數的數量不同的原因在哪?\n",
    "\n",
    "        DNN > CNN，主因是DNN為全連接，權重數量為(圖片尺寸*channels+1)*結點數；而CNN為(kernel_size*channels+1)*結點數。"
   ]
  }
 ],
 "metadata": {
  "kernelspec": {
   "display_name": "Python 3",
   "language": "python",
   "name": "python3"
  },
  "language_info": {
   "codemirror_mode": {
    "name": "ipython",
    "version": 3
   },
   "file_extension": ".py",
   "mimetype": "text/x-python",
   "name": "python",
   "nbconvert_exporter": "python",
   "pygments_lexer": "ipython3",
   "version": "3.6.8"
  }
 },
 "nbformat": 4,
 "nbformat_minor": 2
}
