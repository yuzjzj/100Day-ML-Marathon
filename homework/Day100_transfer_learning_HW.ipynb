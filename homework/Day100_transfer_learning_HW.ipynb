{
 "cells": [
  {
   "cell_type": "markdown",
   "metadata": {},
   "source": [
    "## 作業\n",
    "礙於不是所有同學都有 GPU ，這邊的範例使用的是簡化版本的 ResNet，確保所有同學都能夠順利訓練!\n",
    "\n",
    "\n",
    "最後一天的作業請閱讀這篇非常詳盡的[文章](https://blog.gtwang.org/programming/keras-resnet-50-pre-trained-model-build-dogs-cats-image-classification-system/)，基本上已經涵蓋了所有訓練　CNN 常用的技巧，請使用所有學過的訓練技巧，盡可能地提高 Cifar-10 的 test data 準確率，截圖你最佳的結果並上傳來完成最後一次的作業吧!\n",
    "\n",
    "另外這些技巧在 Kaggle 上也會被許多人使用，更有人會開發一些新的技巧，例如使把預訓練在 ImageNet 上的模型當成 feature extractor 後，再拿擷取出的特徵重新訓練新的模型，這些技巧再進階的課程我們會在提到，有興趣的同學也可以[參考](https://www.kaggle.com/insaff/img-feature-extraction-with-pretrained-resnet)"
   ]
  },
  {
   "cell_type": "code",
   "execution_count": 1,
   "metadata": {},
   "outputs": [
    {
     "name": "stderr",
     "output_type": "stream",
     "text": [
      "Using TensorFlow backend.\n"
     ]
    }
   ],
   "source": [
    "from keras.datasets import cifar10\n",
    "from keras.preprocessing.image import ImageDataGenerator\n",
    "%matplotlib inline\n",
    "import keras\n",
    "import os\n",
    "from keras.models import Sequential\n",
    "from keras.models import Model\n",
    "from keras.layers import Dense, Dropout, Activation, Flatten\n",
    "from keras.layers import Conv2D, MaxPooling2D\n",
    "from keras.optimizers import RMSprop, Adam\n",
    "from resnet_builder import resnet # 這是從 resnet_builder.py 中直接 import 撰寫好的 resnet 函數\n",
    "from keras.utils import to_categorical"
   ]
  },
  {
   "cell_type": "code",
   "execution_count": 2,
   "metadata": {},
   "outputs": [
    {
     "name": "stdout",
     "output_type": "stream",
     "text": [
      "x_train shape: (50000, 32, 32, 3)\n",
      "50000 train samples\n",
      "10000 test samples\n"
     ]
    }
   ],
   "source": [
    "# 讀取資料集並作前處理\n",
    "(x_train, y_train), (x_test, y_test) = cifar10.load_data()\n",
    "print('x_train shape:', x_train.shape)\n",
    "print(x_train.shape[0], 'train samples')\n",
    "print(x_test.shape[0], 'test samples')\n",
    "x_train = x_train.astype('float32')\n",
    "x_test = x_test.astype('float32')\n",
    "\n",
    "x_train = x_train / 255.\n",
    "x_test = x_test / 255.\n",
    "y_train = to_categorical(y_train, 10)\n",
    "y_test = to_categorical(y_test, 10)"
   ]
  },
  {
   "cell_type": "code",
   "execution_count": 3,
   "metadata": {},
   "outputs": [],
   "source": [
    "batch_size = 64 # batch 的大小，如果出現 OOM error，請降低這個值\n",
    "BATCH_SIZE = batch_size\n",
    "num_classes = 10 # 類別的數量，Cifar 10 共有 10 個類別\n",
    "epochs = 30 # 訓練整個資料集共 30個循環\n",
    "EPOCHS = epochs"
   ]
  },
  {
   "cell_type": "code",
   "execution_count": 4,
   "metadata": {},
   "outputs": [
    {
     "name": "stdout",
     "output_type": "stream",
     "text": [
      "WARNING:tensorflow:From C:\\Miniconda3\\envs\\t1\\lib\\site-packages\\keras\\backend\\tensorflow_backend.py:74: The name tf.get_default_graph is deprecated. Please use tf.compat.v1.get_default_graph instead.\n",
      "\n",
      "WARNING:tensorflow:From C:\\Miniconda3\\envs\\t1\\lib\\site-packages\\keras\\backend\\tensorflow_backend.py:517: The name tf.placeholder is deprecated. Please use tf.compat.v1.placeholder instead.\n",
      "\n",
      "WARNING:tensorflow:From C:\\Miniconda3\\envs\\t1\\lib\\site-packages\\keras\\backend\\tensorflow_backend.py:4185: The name tf.truncated_normal is deprecated. Please use tf.random.truncated_normal instead.\n",
      "\n",
      "WARNING:tensorflow:From C:\\Miniconda3\\envs\\t1\\lib\\site-packages\\keras\\backend\\tensorflow_backend.py:174: The name tf.get_default_session is deprecated. Please use tf.compat.v1.get_default_session instead.\n",
      "\n",
      "WARNING:tensorflow:From C:\\Miniconda3\\envs\\t1\\lib\\site-packages\\keras\\backend\\tensorflow_backend.py:181: The name tf.ConfigProto is deprecated. Please use tf.compat.v1.ConfigProto instead.\n",
      "\n",
      "WARNING:tensorflow:From C:\\Miniconda3\\envs\\t1\\lib\\site-packages\\keras\\backend\\tensorflow_backend.py:186: The name tf.Session is deprecated. Please use tf.compat.v1.Session instead.\n",
      "\n",
      "WARNING:tensorflow:From C:\\Miniconda3\\envs\\t1\\lib\\site-packages\\keras\\backend\\tensorflow_backend.py:190: The name tf.global_variables is deprecated. Please use tf.compat.v1.global_variables instead.\n",
      "\n",
      "WARNING:tensorflow:From C:\\Miniconda3\\envs\\t1\\lib\\site-packages\\keras\\backend\\tensorflow_backend.py:199: The name tf.is_variable_initialized is deprecated. Please use tf.compat.v1.is_variable_initialized instead.\n",
      "\n",
      "WARNING:tensorflow:From C:\\Miniconda3\\envs\\t1\\lib\\site-packages\\keras\\backend\\tensorflow_backend.py:206: The name tf.variables_initializer is deprecated. Please use tf.compat.v1.variables_initializer instead.\n",
      "\n",
      "WARNING:tensorflow:From C:\\Miniconda3\\envs\\t1\\lib\\site-packages\\keras\\backend\\tensorflow_backend.py:1834: The name tf.nn.fused_batch_norm is deprecated. Please use tf.compat.v1.nn.fused_batch_norm instead.\n",
      "\n",
      "WARNING:tensorflow:From C:\\Miniconda3\\envs\\t1\\lib\\site-packages\\keras\\backend\\tensorflow_backend.py:133: The name tf.placeholder_with_default is deprecated. Please use tf.compat.v1.placeholder_with_default instead.\n",
      "\n",
      "WARNING:tensorflow:From C:\\Miniconda3\\envs\\t1\\lib\\site-packages\\keras\\backend\\tensorflow_backend.py:3980: The name tf.nn.avg_pool is deprecated. Please use tf.nn.avg_pool2d instead.\n",
      "\n",
      "WARNING:tensorflow:From C:\\Miniconda3\\envs\\t1\\lib\\site-packages\\keras\\optimizers.py:790: The name tf.train.Optimizer is deprecated. Please use tf.compat.v1.train.Optimizer instead.\n",
      "\n",
      "WARNING:tensorflow:From C:\\Miniconda3\\envs\\t1\\lib\\site-packages\\keras\\backend\\tensorflow_backend.py:3295: The name tf.log is deprecated. Please use tf.math.log instead.\n",
      "\n"
     ]
    }
   ],
   "source": [
    "# 建立 ResNet 模型\n",
    "model = resnet(input_shape=(32,32,3)) \n",
    "model.compile(loss='categorical_crossentropy',\n",
    "              optimizer=Adam(),\n",
    "              metrics=['accuracy'])\n",
    "# model.summary()"
   ]
  },
  {
   "cell_type": "code",
   "execution_count": 5,
   "metadata": {},
   "outputs": [],
   "source": [
    "# 建立 ImageDataGenerator，並指定我們要做資料增強的數值範圍\n",
    "data_generator = ImageDataGenerator(\n",
    "    rotation_range=20,\n",
    "    width_shift_range=0.2,\n",
    "    height_shift_range=0.2,\n",
    "    horizontal_flip=True\n",
    ")\n",
    "train_set = data_generator.flow(\n",
    "    x_train, y_train,\n",
    "    batch_size = BATCH_SIZE,\n",
    "    shuffle=True\n",
    ")\n",
    "\n",
    "val_set = data_generator.flow(\n",
    "    x_test, y_test,\n",
    "    shuffle = False,\n",
    "    batch_size = 256\n",
    ")\n",
    "\n",
    "num_train = train_set.n\n",
    "num_val = val_set.n"
   ]
  },
  {
   "cell_type": "code",
   "execution_count": 6,
   "metadata": {
    "scrolled": true
   },
   "outputs": [
    {
     "name": "stdout",
     "output_type": "stream",
     "text": [
      "WARNING:tensorflow:From C:\\Miniconda3\\envs\\t1\\lib\\site-packages\\tensorflow_core\\python\\ops\\math_grad.py:1424: where (from tensorflow.python.ops.array_ops) is deprecated and will be removed in a future version.\n",
      "Instructions for updating:\n",
      "Use tf.where in 2.0, which has the same broadcast rule as np.where\n",
      "WARNING:tensorflow:From C:\\Miniconda3\\envs\\t1\\lib\\site-packages\\keras\\backend\\tensorflow_backend.py:986: The name tf.assign_add is deprecated. Please use tf.compat.v1.assign_add instead.\n",
      "\n",
      "WARNING:tensorflow:From C:\\Miniconda3\\envs\\t1\\lib\\site-packages\\keras\\backend\\tensorflow_backend.py:973: The name tf.assign is deprecated. Please use tf.compat.v1.assign instead.\n",
      "\n",
      "Epoch 1/30\n",
      "781/781 [==============================] - 95s 121ms/step - loss: 1.9916 - acc: 0.4515\n",
      "Epoch 2/30\n",
      "781/781 [==============================] - 87s 112ms/step - loss: 1.5588 - acc: 0.5718\n",
      "Epoch 3/30\n",
      "781/781 [==============================] - 86s 111ms/step - loss: 1.3740 - acc: 0.6230\n",
      "Epoch 4/30\n",
      "781/781 [==============================] - 86s 110ms/step - loss: 1.2496 - acc: 0.6596\n",
      "Epoch 5/30\n",
      "781/781 [==============================] - 86s 111ms/step - loss: 1.1659 - acc: 0.6876\n",
      "Epoch 6/30\n",
      "781/781 [==============================] - 87s 111ms/step - loss: 1.0897 - acc: 0.7108\n",
      "Epoch 7/30\n",
      "781/781 [==============================] - 87s 111ms/step - loss: 1.0338 - acc: 0.7325\n",
      "Epoch 8/30\n",
      "781/781 [==============================] - 87s 111ms/step - loss: 0.9918 - acc: 0.7457\n",
      "Epoch 9/30\n",
      "781/781 [==============================] - 87s 111ms/step - loss: 0.9551 - acc: 0.7574\n",
      "Epoch 10/30\n",
      "781/781 [==============================] - 87s 111ms/step - loss: 0.9236 - acc: 0.7672\n",
      "Epoch 11/30\n",
      "781/781 [==============================] - 87s 111ms/step - loss: 0.8994 - acc: 0.7755\n",
      "Epoch 12/30\n",
      "781/781 [==============================] - 87s 111ms/step - loss: 0.8776 - acc: 0.7839\n",
      "Epoch 13/30\n",
      "781/781 [==============================] - 87s 111ms/step - loss: 0.8538 - acc: 0.7914\n",
      "Epoch 14/30\n",
      "781/781 [==============================] - 87s 111ms/step - loss: 0.8401 - acc: 0.7946\n",
      "Epoch 15/30\n",
      "781/781 [==============================] - 87s 111ms/step - loss: 0.8219 - acc: 0.8012\n",
      "Epoch 16/30\n",
      "781/781 [==============================] - 86s 110ms/step - loss: 0.8095 - acc: 0.8032\n",
      "Epoch 17/30\n",
      "781/781 [==============================] - 86s 111ms/step - loss: 0.7999 - acc: 0.8063\n",
      "Epoch 18/30\n",
      "781/781 [==============================] - 86s 111ms/step - loss: 0.7758 - acc: 0.8147\n",
      "Epoch 19/30\n",
      "781/781 [==============================] - 87s 111ms/step - loss: 0.7699 - acc: 0.8164\n",
      "Epoch 20/30\n",
      "781/781 [==============================] - 86s 111ms/step - loss: 0.7526 - acc: 0.8238\n",
      "Epoch 21/30\n",
      "781/781 [==============================] - 86s 111ms/step - loss: 0.7465 - acc: 0.8248\n",
      "Epoch 22/30\n",
      "781/781 [==============================] - 86s 111ms/step - loss: 0.7360 - acc: 0.8279\n",
      "Epoch 23/30\n",
      "781/781 [==============================] - 86s 111ms/step - loss: 0.7265 - acc: 0.8319\n",
      "Epoch 24/30\n",
      "781/781 [==============================] - 86s 111ms/step - loss: 0.7149 - acc: 0.8332\n",
      "Epoch 25/30\n",
      "781/781 [==============================] - 86s 111ms/step - loss: 0.7080 - acc: 0.8362\n",
      "Epoch 26/30\n",
      "781/781 [==============================] - 86s 111ms/step - loss: 0.7046 - acc: 0.8366\n",
      "Epoch 27/30\n",
      "781/781 [==============================] - 86s 111ms/step - loss: 0.6986 - acc: 0.8379\n",
      "Epoch 28/30\n",
      "781/781 [==============================] - 88s 113ms/step - loss: 0.6886 - acc: 0.8421\n",
      "Epoch 29/30\n",
      "781/781 [==============================] - 87s 112ms/step - loss: 0.6838 - acc: 0.8445\n",
      "Epoch 30/30\n",
      "781/781 [==============================] - 86s 111ms/step - loss: 0.6784 - acc: 0.8443\n"
     ]
    },
    {
     "data": {
      "text/plain": [
       "<keras.callbacks.History at 0x2ad24c2a940>"
      ]
     },
     "execution_count": 6,
     "metadata": {},
     "output_type": "execute_result"
    }
   ],
   "source": [
    "model.fit_generator(\n",
    "    train_set,\n",
    "    steps_per_epoch  = num_train // BATCH_SIZE,\n",
    "    epochs = EPOCHS,\n",
    "    verbose = 1\n",
    ")"
   ]
  },
  {
   "cell_type": "code",
   "execution_count": 7,
   "metadata": {},
   "outputs": [
    {
     "name": "stdout",
     "output_type": "stream",
     "text": [
      "Test loss: 0.8547270872116088\n",
      "Test accuracy: 0.8097\n"
     ]
    }
   ],
   "source": [
    "score = model.evaluate(x_test, y_test, verbose=0)\n",
    "print('Test loss:', score[0])\n",
    "print('Test accuracy:', score[1])"
   ]
  },
  {
   "cell_type": "code",
   "execution_count": 5,
   "metadata": {
    "scrolled": true
   },
   "outputs": [
    {
     "name": "stdout",
     "output_type": "stream",
     "text": [
      "WARNING:tensorflow:From C:\\Miniconda3\\envs\\t1\\lib\\site-packages\\tensorflow_core\\python\\ops\\math_grad.py:1424: where (from tensorflow.python.ops.array_ops) is deprecated and will be removed in a future version.\n",
      "Instructions for updating:\n",
      "Use tf.where in 2.0, which has the same broadcast rule as np.where\n",
      "WARNING:tensorflow:From C:\\Miniconda3\\envs\\t1\\lib\\site-packages\\keras\\backend\\tensorflow_backend.py:986: The name tf.assign_add is deprecated. Please use tf.compat.v1.assign_add instead.\n",
      "\n",
      "WARNING:tensorflow:From C:\\Miniconda3\\envs\\t1\\lib\\site-packages\\keras\\backend\\tensorflow_backend.py:973: The name tf.assign is deprecated. Please use tf.compat.v1.assign instead.\n",
      "\n",
      "Train on 50000 samples, validate on 10000 samples\n",
      "Epoch 1/30\n",
      "50000/50000 [==============================] - 105s 2ms/step - loss: 1.8292 - acc: 0.5151 - val_loss: 1.6509 - val_acc: 0.5626\n",
      "Epoch 2/30\n",
      "50000/50000 [==============================] - 92s 2ms/step - loss: 1.3276 - acc: 0.6581 - val_loss: 1.6675 - val_acc: 0.5693\n",
      "Epoch 3/30\n",
      "50000/50000 [==============================] - 92s 2ms/step - loss: 1.1117 - acc: 0.7252 - val_loss: 1.3627 - val_acc: 0.6270\n",
      "Epoch 4/30\n",
      "50000/50000 [==============================] - 92s 2ms/step - loss: 0.9837 - acc: 0.7645 - val_loss: 1.5374 - val_acc: 0.6215\n",
      "Epoch 5/30\n",
      "50000/50000 [==============================] - 92s 2ms/step - loss: 0.8890 - acc: 0.7953 - val_loss: 1.6725 - val_acc: 0.5746\n",
      "Epoch 6/30\n",
      "50000/50000 [==============================] - 92s 2ms/step - loss: 0.8185 - acc: 0.8185 - val_loss: 1.3908 - val_acc: 0.6609\n",
      "Epoch 7/30\n",
      "50000/50000 [==============================] - 93s 2ms/step - loss: 0.7643 - acc: 0.8359 - val_loss: 1.3139 - val_acc: 0.6699\n",
      "Epoch 8/30\n",
      "50000/50000 [==============================] - 94s 2ms/step - loss: 0.7252 - acc: 0.8514 - val_loss: 1.6000 - val_acc: 0.6443\n",
      "Epoch 9/30\n",
      "50000/50000 [==============================] - 92s 2ms/step - loss: 0.6789 - acc: 0.8670 - val_loss: 1.2877 - val_acc: 0.7058\n",
      "Epoch 10/30\n",
      "50000/50000 [==============================] - 91s 2ms/step - loss: 0.6454 - acc: 0.8798 - val_loss: 1.0767 - val_acc: 0.7614\n",
      "Epoch 11/30\n",
      "50000/50000 [==============================] - 91s 2ms/step - loss: 0.6200 - acc: 0.8885 - val_loss: 1.2874 - val_acc: 0.7106\n",
      "Epoch 12/30\n",
      "50000/50000 [==============================] - 90s 2ms/step - loss: 0.5954 - acc: 0.8993 - val_loss: 1.4677 - val_acc: 0.6755\n",
      "Epoch 13/30\n",
      "50000/50000 [==============================] - 90s 2ms/step - loss: 0.5821 - acc: 0.9024 - val_loss: 1.1443 - val_acc: 0.7668\n",
      "Epoch 14/30\n",
      "50000/50000 [==============================] - 90s 2ms/step - loss: 0.5596 - acc: 0.9124 - val_loss: 2.2681 - val_acc: 0.5997\n",
      "Epoch 15/30\n",
      "50000/50000 [==============================] - 91s 2ms/step - loss: 0.5484 - acc: 0.9173 - val_loss: 1.1670 - val_acc: 0.7622\n",
      "Epoch 16/30\n",
      "50000/50000 [==============================] - 91s 2ms/step - loss: 0.5343 - acc: 0.9234 - val_loss: 1.5982 - val_acc: 0.6769\n",
      "Epoch 17/30\n",
      "50000/50000 [==============================] - 92s 2ms/step - loss: 0.5306 - acc: 0.9232 - val_loss: 1.6694 - val_acc: 0.6648\n",
      "Epoch 18/30\n",
      "50000/50000 [==============================] - 92s 2ms/step - loss: 0.5153 - acc: 0.9305 - val_loss: 1.6592 - val_acc: 0.6836\n",
      "Epoch 19/30\n",
      "50000/50000 [==============================] - 93s 2ms/step - loss: 0.5179 - acc: 0.9291 - val_loss: 1.6007 - val_acc: 0.6901\n",
      "Epoch 20/30\n",
      "50000/50000 [==============================] - 93s 2ms/step - loss: 0.5117 - acc: 0.9322 - val_loss: 1.6105 - val_acc: 0.7017\n",
      "Epoch 21/30\n",
      "50000/50000 [==============================] - 93s 2ms/step - loss: 0.5032 - acc: 0.9357 - val_loss: 1.4193 - val_acc: 0.7317\n",
      "Epoch 22/30\n",
      "50000/50000 [==============================] - 91s 2ms/step - loss: 0.5023 - acc: 0.9351 - val_loss: 1.3204 - val_acc: 0.7442\n",
      "Epoch 23/30\n",
      "50000/50000 [==============================] - 91s 2ms/step - loss: 0.4935 - acc: 0.9405 - val_loss: 1.3739 - val_acc: 0.7283\n",
      "Epoch 24/30\n",
      "50000/50000 [==============================] - 90s 2ms/step - loss: 0.4913 - acc: 0.9396 - val_loss: 1.3151 - val_acc: 0.7522\n",
      "Epoch 25/30\n",
      "50000/50000 [==============================] - 90s 2ms/step - loss: 0.4829 - acc: 0.9417 - val_loss: 1.4611 - val_acc: 0.7336\n",
      "Epoch 26/30\n",
      "50000/50000 [==============================] - 90s 2ms/step - loss: 0.4819 - acc: 0.9440 - val_loss: 1.6093 - val_acc: 0.7121\n",
      "Epoch 27/30\n",
      "50000/50000 [==============================] - 90s 2ms/step - loss: 0.4893 - acc: 0.9413 - val_loss: 1.4377 - val_acc: 0.7298\n",
      "Epoch 28/30\n",
      "50000/50000 [==============================] - 90s 2ms/step - loss: 0.4750 - acc: 0.9458 - val_loss: 1.5075 - val_acc: 0.7229\n",
      "Epoch 29/30\n",
      "50000/50000 [==============================] - 90s 2ms/step - loss: 0.4768 - acc: 0.9440 - val_loss: 1.7983 - val_acc: 0.6939\n",
      "Epoch 30/30\n",
      "50000/50000 [==============================] - 90s 2ms/step - loss: 0.4755 - acc: 0.9461 - val_loss: 1.3573 - val_acc: 0.7595\n"
     ]
    },
    {
     "data": {
      "text/plain": [
       "<keras.callbacks.History at 0x217a0d1e0b8>"
      ]
     },
     "execution_count": 5,
     "metadata": {},
     "output_type": "execute_result"
    }
   ],
   "source": [
    "model.fit(x_train, y_train,\n",
    "                    batch_size=batch_size,\n",
    "                    epochs=epochs,\n",
    "                    verbose=1,\n",
    "                    validation_data=(x_test, y_test))"
   ]
  },
  {
   "cell_type": "code",
   "execution_count": 6,
   "metadata": {},
   "outputs": [
    {
     "name": "stdout",
     "output_type": "stream",
     "text": [
      "Test loss: 1.35731405916214\n",
      "Test accuracy: 0.7595\n"
     ]
    }
   ],
   "source": [
    "score = model.evaluate(x_test, y_test, verbose=0)\n",
    "print('Test loss:', score[0])\n",
    "print('Test accuracy:', score[1])"
   ]
  }
 ],
 "metadata": {
  "kernelspec": {
   "display_name": "Python 3",
   "language": "python",
   "name": "python3"
  },
  "language_info": {
   "codemirror_mode": {
    "name": "ipython",
    "version": 3
   },
   "file_extension": ".py",
   "mimetype": "text/x-python",
   "name": "python",
   "nbconvert_exporter": "python",
   "pygments_lexer": "ipython3",
   "version": "3.6.8"
  }
 },
 "nbformat": 4,
 "nbformat_minor": 2
}
